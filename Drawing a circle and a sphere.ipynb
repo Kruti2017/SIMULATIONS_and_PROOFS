{
 "cells": [
  {
   "cell_type": "code",
   "execution_count": 66,
   "metadata": {
    "collapsed": false
   },
   "outputs": [],
   "source": [
    "from numpy import *\n",
    "from matplotlib import *\n",
    "import pylab as py  # This is to avoid conflicts in figure() between matplotlib and matplotlib.pyplot."
   ]
  },
  {
   "cell_type": "code",
   "execution_count": 67,
   "metadata": {
    "collapsed": false
   },
   "outputs": [],
   "source": [
    "# Drawing a circle:\n",
    "theta = arange(0,2*pi,0.01) # Breaking down the perimeter of a circle of radius 1 at intervals of 0.01.\n",
    "c = cos(theta); s = sin(theta)\n",
    "py.figure();\n",
    "py.axis([1.5,-1.5,1.5,-1.5])\n",
    "py.plot(c,s, color=\"red\")\n",
    "py.title(\"Perfect circle\")\n",
    "py.show();"
   ]
  },
  {
   "cell_type": "markdown",
   "metadata": {},
   "source": [
    "The parametrized formula of the sphere is:\n",
    "\\begin{align}\n",
    "x &= \\cos(u) \\times \\sin(v)\\\\\n",
    "y &= \\sin(u) \\times \\sin(v)\\\\\n",
    "z &= \\cos(v)\n",
    "\\end{align}"
   ]
  },
  {
   "cell_type": "code",
   "execution_count": 68,
   "metadata": {
    "collapsed": false
   },
   "outputs": [],
   "source": [
    "# This is the plot in Python:\n",
    "u = arange(0, 2*pi, 0.01)\n",
    "v = arange(0, pi, pi/len(u))\n",
    "U,V = meshgrid(u,v)\n",
    "x = cos(U) * sin(V)\n",
    "y = sin(U) * sin(V)\n",
    "z = cos(V)\n",
    "\n",
    "from mpl_toolkits.mplot3d import Axes3D\n",
    "fig = py.figure();\n",
    "ax = fig.gca(projection='3d')\n",
    "surf = ax.plot_surface(x,y,z, cmap=cm.coolwarm,\n",
    "                       linewidth=0, antialiased=True)\n",
    "py.title('Sphere parametrized on the plane')\n",
    "py.show();"
   ]
  },
  {
   "cell_type": "code",
   "execution_count": 69,
   "metadata": {
    "collapsed": false
   },
   "outputs": [],
   "source": [
    "x_coor = arange(0,pi,0.01)\n",
    "y_coor = x_coor\n",
    "X_coor = cos(x_coor) * sin(y_coor)\n",
    "Y_coor = sin(x_coor) * sin(y_coor)\n",
    "Z_coor = cos(y_coor)\n",
    "fig = py.figure();\n",
    "ax = fig.gca(projection='3d')\n",
    "ax.plot(X_coor,Y_coor,Z_coor, color=\"red\")\n",
    "py.title('Curve on the sphere')\n",
    "#py.show();\n",
    "fig = py.figure();\n",
    "ax = fig.gca(projection='3d')\n",
    "surf = ax.plot_surface(x,y,z, cmap=cm.coolwarm,\n",
    "                       linewidth=0, antialiased=True)\n",
    "ax.plot(X_coor,Y_coor,Z_coor, color=\"brown\", linewidth = 2.5, alpha=0.6)\n",
    "ax.grid(False)\n",
    "ax.set_xticks([])\n",
    "ax.set_yticks([])\n",
    "ax.set_zticks([])\n",
    "py.title('Sphere parametrized on the plane with line on its surface')\n",
    "py.show();"
   ]
  },
  {
   "cell_type": "code",
   "execution_count": 70,
   "metadata": {
    "collapsed": false
   },
   "outputs": [],
   "source": [
    "# Geodesic of a curve parameterized by lambda with a constant value at the equator of v (here 'q' to avoid double-duty symbols)\n",
    "lmbda = arange(0,2 * pi,0.01)\n",
    "p = lmbda\n",
    "q = [pi/2] * len(lmbda)\n",
    "Xpq = cos(p) * sin(q)\n",
    "Ypq = sin(p) * sin(q)\n",
    "Zpq = cos(q)\n",
    "fig = py.figure();\n",
    "ax = fig.gca(projection='3d')\n",
    "surf = ax.plot_surface(x,y,z, cmap=cm.coolwarm,\n",
    "                       linewidth=0, antialiased=True)\n",
    "ax = fig.gca(projection='3d')\n",
    "ax.plot(Xpq,Ypq,Zpq, color=\"black\", linewidth = 2.5, alpha=0.6)\n",
    "py.show();"
   ]
  }
 ],
 "metadata": {
  "anaconda-cloud": {},
  "kernelspec": {
   "display_name": "Python [Root]",
   "language": "python",
   "name": "Python [Root]"
  },
  "language_info": {
   "codemirror_mode": {
    "name": "ipython",
    "version": 3
   },
   "file_extension": ".py",
   "mimetype": "text/x-python",
   "name": "python",
   "nbconvert_exporter": "python",
   "pygments_lexer": "ipython3",
   "version": "3.5.2"
  }
 },
 "nbformat": 4,
 "nbformat_minor": 0
}
