{
 "cells": [
  {
   "cell_type": "code",
   "execution_count": 1,
   "metadata": {
    "collapsed": false
   },
   "outputs": [
    {
     "data": {
      "text/html": [
       "<table>\n",
       "<thead><tr><th></th><th scope=col>D</th><th scope=col>A</th><th scope=col>Sum</th></tr></thead>\n",
       "<tbody>\n",
       "\t<tr><th scope=row>Q1</th><td>10  </td><td>490 </td><td> 500</td></tr>\n",
       "\t<tr><th scope=row>Q2</th><td>10  </td><td>490 </td><td> 500</td></tr>\n",
       "\t<tr><th scope=row>Sum</th><td>20  </td><td>980 </td><td>1000</td></tr>\n",
       "</tbody>\n",
       "</table>\n"
      ],
      "text/latex": [
       "\\begin{tabular}{r|lll}\n",
       "  & D & A & Sum\\\\\n",
       "\\hline\n",
       "\tQ1 & 10   & 490  &  500\\\\\n",
       "\tQ2 & 10   & 490  &  500\\\\\n",
       "\tSum & 20   & 980  & 1000\\\\\n",
       "\\end{tabular}\n"
      ],
      "text/markdown": [
       "\n",
       "| <!--/--> | D | A | Sum | \n",
       "|---|---|---|\n",
       "| Q1 | 10   | 490  |  500 | \n",
       "| Q2 | 10   | 490  |  500 | \n",
       "| Sum | 20   | 980  | 1000 | \n",
       "\n",
       "\n"
      ],
      "text/plain": [
       "      Status\n",
       "Quater D  A   Sum \n",
       "   Q1  10 490  500\n",
       "   Q2  10 490  500\n",
       "   Sum 20 980 1000"
      ]
     },
     "metadata": {},
     "output_type": "display_data"
    },
    {
     "data": {
      "text/plain": [
       "\n",
       "\tFisher's Exact Test for Count Data\n",
       "\n",
       "data:  M\n",
       "p-value = 1\n",
       "alternative hypothesis: true odds ratio is not equal to 1\n",
       "95 percent confidence interval:\n",
       " 0.3698755 2.7036121\n",
       "sample estimates:\n",
       "odds ratio \n",
       "         1 \n"
      ]
     },
     "metadata": {},
     "output_type": "display_data"
    },
    {
     "data": {
      "text/plain": [
       "\n",
       "\t2-sample test for equality of proportions without continuity\n",
       "\tcorrection\n",
       "\n",
       "data:  M\n",
       "X-squared = 0, df = 1, p-value = 1\n",
       "alternative hypothesis: two.sided\n",
       "95 percent confidence interval:\n",
       " -0.01735426  0.01735426\n",
       "sample estimates:\n",
       "prop 1 prop 2 \n",
       "  0.02   0.02 \n"
      ]
     },
     "metadata": {},
     "output_type": "display_data"
    },
    {
     "data": {
      "image/png": "[encoded data removed]",
      "text/plain": [
       "Plot with title \"P value of Fisher and Chi versus OR\""
      ]
     },
     "metadata": {},
     "output_type": "display_data"
    }
   ],
   "source": [
    "NQ1 = 500\n",
    "NQ2 = 500\n",
    "DQ1 = 10\n",
    "DQ2 = 10\n",
    "M = matrix(c(DQ1, DQ2, NQ1 - DQ1, NQ2 - DQ2),2, \n",
    "       dimnames = list(Quater = c(\"Q1\", \"Q2\"),\n",
    "                      Status = c(\"D\", \"A\")))\n",
    "addmargins(M)\n",
    "fisher.test(M)\n",
    "prop.test(M, correct = \"F\")\n",
    "\n",
    "options( warn = -1 )\n",
    "nsim = 10 \n",
    "NQ1 = 100\n",
    "NQ2 = 100\n",
    "DQ1 = 10\n",
    "DQ2 = 10\n",
    "R = matrix(0,nsim+1, 3)\n",
    "for(i in 0:nsim){\n",
    "    DQ2 = i + DQ2\n",
    "    R[i+1,1] <- DQ1 / DQ2\n",
    "    M = matrix(c(DQ1, DQ2, NQ1 - DQ1, NQ2 - DQ2),2)\n",
    "    R[i+1,2] <- fisher.test(M)$p\n",
    "    R[i+1,3] <- prop.test(M, correct = FALSE)[[3]]\n",
    "}\n",
    "plot(R[,1],R[,3], pch = 21, col = rgb(red=0, green=0, blue=0, alpha=0), \n",
    "     cex = .7, bg = rgb(0,.2,.9,.8), \n",
    "     main = \"P value of Fisher and Chi versus OR\",\n",
    "     xlab = \"Odds Ratio\", ylab = \"P Value\")\n",
    "\n",
    "points(R[,1],R[,2], pch = 21, \n",
    "       col = rgb(red=0, green=0, blue=0, alpha=0), \n",
    "       cex = .7, bg = rgb(1,0,0,.8))\n",
    "abline(v=0.5, lty=2)\n",
    "abline(h=.05)"
   ]
  }
 ],
 "metadata": {
  "anaconda-cloud": {},
  "kernelspec": {
   "display_name": "R",
   "language": "R",
   "name": "ir"
  },
  "language_info": {
   "codemirror_mode": "r",
   "file_extension": ".r",
   "mimetype": "text/x-r-source",
   "name": "R",
   "pygments_lexer": "r",
   "version": "3.4.0"
  }
 },
 "nbformat": 4,
 "nbformat_minor": 0
}
